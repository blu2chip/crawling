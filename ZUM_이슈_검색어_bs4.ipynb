{
  "nbformat": 4,
  "nbformat_minor": 0,
  "metadata": {
    "colab": {
      "provenance": [],
      "authorship_tag": "ABX9TyNhmBvOhW9JYaCCFrj9G3nb",
      "include_colab_link": true
    },
    "kernelspec": {
      "name": "python3",
      "display_name": "Python 3"
    },
    "language_info": {
      "name": "python"
    }
  },
  "cells": [
    {
      "cell_type": "markdown",
      "metadata": {
        "id": "view-in-github",
        "colab_type": "text"
      },
      "source": [
        "<a href=\"https://colab.research.google.com/github/blu2chip/crawling/blob/master/ZUM_%EC%9D%B4%EC%8A%88_%EA%B2%80%EC%83%89%EC%96%B4_bs4.ipynb\" target=\"_parent\"><img src=\"https://colab.research.google.com/assets/colab-badge.svg\" alt=\"Open In Colab\"/></a>"
      ]
    },
    {
      "cell_type": "code",
      "execution_count": 1,
      "metadata": {
        "colab": {
          "base_uri": "https://localhost:8080/"
        },
        "id": "4zHYOf30MWhE",
        "outputId": "f7643d63-a265-47af-fba4-44045c56b69f"
      },
      "outputs": [
        {
          "output_type": "stream",
          "name": "stdout",
          "text": [
            "권진영\n",
            "월드컵 일정\n",
            "이승기\n",
            "후크엔터테인먼트\n",
            "송중기\n",
            "카타르\n",
            "화물연대파업\n",
            "김건모\n",
            "슈룹\n",
            "정국\n"
          ]
        }
      ],
      "source": [
        "from urllib.request import urlopen\n",
        "from bs4 import BeautifulSoup\n",
        "\n",
        "response = urlopen('https://m.zum.com/')\n",
        "soup = BeautifulSoup(response, 'html.parser')\n",
        "for anchor in soup.select('div ol li a'):\n",
        "    anchor.span.decompose()\n",
        "    data = anchor.get_text().strip()\n",
        "    print(data)"
      ]
    }
  ]
}