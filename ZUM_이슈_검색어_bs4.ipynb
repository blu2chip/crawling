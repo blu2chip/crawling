{
  "nbformat": 4,
  "nbformat_minor": 0,
  "metadata": {
    "colab": {
      "provenance": [],
      "authorship_tag": "ABX9TyNhmBvOhW9JYaCCFrj9G3nb",
      "include_colab_link": true
    },
    "kernelspec": {
      "name": "python3",
      "display_name": "Python 3"
    },
    "language_info": {
      "name": "python"
    }
  },
  "cells": [
    {
      "cell_type": "markdown",
      "metadata": {
        "id": "view-in-github",
        "colab_type": "text"
      },
      "source": [
        "<a href=\"https://colab.research.google.com/github/blu2chip/crawling/blob/master/ZUM_%EC%9D%B4%EC%8A%88_%EA%B2%80%EC%83%89%EC%96%B4_bs4.ipynb\" target=\"_parent\"><img src=\"https://colab.research.google.com/assets/colab-badge.svg\" alt=\"Open In Colab\"/></a>"
      ]
    },
    {
      "cell_type": "code",
      "execution_count": null,
      "metadata": {
        "colab": {
          "base_uri": "https://localhost:8080/"
        },
        "id": "4zHYOf30MWhE",
        "outputId": "26071f23-cc9e-40bc-aef9-a359da3bfa7a"
      },
      "outputs": [
        {
          "output_type": "stream",
          "name": "stdout",
          "text": [
            "이소라\n",
            "폴란드\n",
            "슈룹\n",
            "김건희\n",
            "소방서 옆 경찰서\n",
            "차은택\n",
            "이재명\n",
            "박민영\n",
            "손흥민\n",
            "수능일\n"
          ]
        }
      ],
      "source": [
        "from urllib.request import urlopen\n",
        "from bs4 import BeautifulSoup\n",
        "\n",
        "response = urlopen('https://m.zum.com/')\n",
        "soup = BeautifulSoup(response, 'html.parser')\n",
        "for anchor in soup.select('div ol li a'):\n",
        "    anchor.span.decompose()\n",
        "    data = anchor.get_text().strip()\n",
        "    print(data)"
      ]
    }
  ]
}